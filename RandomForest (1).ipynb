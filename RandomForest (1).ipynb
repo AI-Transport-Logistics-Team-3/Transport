{
 "cells": [
  {
   "cell_type": "code",
   "execution_count": 1,
   "metadata": {},
   "outputs": [],
   "source": [
    "import pandas as pd\n",
    "import numpy as np\n",
    "import matplotlib.pyplot as plt\n",
    "import seaborn as sns\n",
    "from sklearn.model_selection import train_test_split\n",
    "from sklearn.ensemble import RandomForestClassifier\n",
    "from sklearn.metrics import accuracy_score, classification_report, confusion_matrix\n",
    "from sklearn.model_selection import GridSearchCV\n",
    "\n",
    "# Cargar el dataset\n",
    "dataset_path = r\"C:\\Users\\manon\\Downloads\\preprocessed_data.csv\"\n",
    "datos = pd.read_csv(dataset_path)\n"
   ]
  },
  {
   "cell_type": "code",
   "execution_count": 2,
   "metadata": {},
   "outputs": [
    {
     "name": "stdout",
     "output_type": "stream",
     "text": [
      "BookingID_Date                                          float64\n",
      "Data_Ping_time                                          float64\n",
      "Planned_ETA                                             float64\n",
      "actual_eta                                              float64\n",
      "Curr_lat                                                float64\n",
      "Curr_lon                                                float64\n",
      "ontime                                                    int64\n",
      "delay                                                     int64\n",
      "trip_start_date                                         float64\n",
      "trip_end_date                                           float64\n",
      "TRANSPORTATION_DISTANCE_IN_KM                           float64\n",
      "Minimum_kms_to_be_covered_in_a_day                      float64\n",
      "Org_latitude                                            float64\n",
      "Org_longitude                                           float64\n",
      "Des_latitude                                            float64\n",
      "Des_longitude                                           float64\n",
      "vehicleType_32_FT_Multi-Axle_14MT_-_HCV                    bool\n",
      "vehicleType_32_FT_Single-Axle_7MT_-_HCV                    bool\n",
      "vehicleType_40_FT_3XL_Trailer_35MT                         bool\n",
      "vehicleType_40_FT_Flat_Bed_Multi-Axle_27MT_-_Trailer       bool\n",
      "vehicleType_OTROS                                          bool\n",
      "customerID_DMREXCHEUX                                      bool\n",
      "customerID_FILEXCHE19                                      bool\n",
      "customerID_LTLEXMUM40                                      bool\n",
      "customerID_OTROS                                           bool\n",
      "supplierID_999                                             bool\n",
      "supplierID_55471                                           bool\n",
      "supplierID_55556                                           bool\n",
      "supplierID_OTROS                                           bool\n",
      "Material_Shipped_AUTO_PARTS                                bool\n",
      "Material_Shipped_OTROS                                     bool\n",
      "dtype: object\n",
      "6880\n",
      "31\n",
      "BookingID_Date                                             0\n",
      "Data_Ping_time                                             0\n",
      "Planned_ETA                                                0\n",
      "actual_eta                                                 0\n",
      "Curr_lat                                                 953\n",
      "Curr_lon                                                 953\n",
      "ontime                                                     0\n",
      "delay                                                      0\n",
      "trip_start_date                                            0\n",
      "trip_end_date                                              0\n",
      "TRANSPORTATION_DISTANCE_IN_KM                            712\n",
      "Minimum_kms_to_be_covered_in_a_day                      4060\n",
      "Org_latitude                                               0\n",
      "Org_longitude                                              0\n",
      "Des_latitude                                               0\n",
      "Des_longitude                                              0\n",
      "vehicleType_32_FT_Multi-Axle_14MT_-_HCV                    0\n",
      "vehicleType_32_FT_Single-Axle_7MT_-_HCV                    0\n",
      "vehicleType_40_FT_3XL_Trailer_35MT                         0\n",
      "vehicleType_40_FT_Flat_Bed_Multi-Axle_27MT_-_Trailer       0\n",
      "vehicleType_OTROS                                          0\n",
      "customerID_DMREXCHEUX                                      0\n",
      "customerID_FILEXCHE19                                      0\n",
      "customerID_LTLEXMUM40                                      0\n",
      "customerID_OTROS                                           0\n",
      "supplierID_999                                             0\n",
      "supplierID_55471                                           0\n",
      "supplierID_55556                                           0\n",
      "supplierID_OTROS                                           0\n",
      "Material_Shipped_AUTO_PARTS                                0\n",
      "Material_Shipped_OTROS                                     0\n",
      "dtype: int64\n"
     ]
    }
   ],
   "source": [
    "print(datos.dtypes)\n",
    "print(datos.shape[0])\n",
    "print(datos.shape[1])\n",
    "print(datos.isna().sum())"
   ]
  },
  {
   "cell_type": "code",
   "execution_count": 3,
   "metadata": {},
   "outputs": [
    {
     "name": "stdout",
     "output_type": "stream",
     "text": [
      "\n",
      "Análisis de la variable categórica: delay\n",
      "1    4342\n",
      "0    2538\n",
      "Name: delay, dtype: int64\n"
     ]
    },
    {
     "data": {
      "image/png": "[encoded data removed]",
      "text/plain": [
       "<Figure size 864x432 with 1 Axes>"
      ]
     },
     "metadata": {
      "needs_background": "light"
     },
     "output_type": "display_data"
    }
   ],
   "source": [
    "categorical_columns = [\n",
    "    'delay'\n",
    "]\n",
    "\n",
    "for col in categorical_columns:\n",
    "    print(f\"\\nAnálisis de la variable categórica: {col}\")\n",
    "    top_categories = datos[col].value_counts().nlargest(10)\n",
    "    print(top_categories)\n",
    "    plt.figure(figsize=(12, 6))\n",
    "    ax = sns.countplot(x=datos[col], order=top_categories.index, palette='coolwarm')\n",
    "    plt.xticks(rotation=90, ha='right')\n",
    "    plt.title(f'Distribución de delay')\n",
    "    plt.xlabel(col)\n",
    "    plt.ylabel('Frecuencia')\n",
    "    for p in ax.patches:\n",
    "        ax.annotate(f'{p.get_height()}', (p.get_x() + p.get_width() / 2., p.get_height()),\n",
    "                    ha='center', va='center', fontsize=10, color='black', xytext=(0, 5),\n",
    "                    textcoords='offset points')\n",
    "    plt.show()"
   ]
  },
  {
   "cell_type": "code",
   "execution_count": 4,
   "metadata": {},
   "outputs": [],
   "source": [
    "datosnuevo = datos.drop('Minimum_kms_to_be_covered_in_a_day',axis = 1)"
   ]
  },
  {
   "cell_type": "code",
   "execution_count": 5,
   "metadata": {},
   "outputs": [
    {
     "name": "stdout",
     "output_type": "stream",
     "text": [
      "6880\n",
      "30\n",
      "BookingID_Date                                            0\n",
      "Data_Ping_time                                            0\n",
      "Planned_ETA                                               0\n",
      "actual_eta                                                0\n",
      "Curr_lat                                                953\n",
      "Curr_lon                                                953\n",
      "ontime                                                    0\n",
      "delay                                                     0\n",
      "trip_start_date                                           0\n",
      "trip_end_date                                             0\n",
      "TRANSPORTATION_DISTANCE_IN_KM                           712\n",
      "Org_latitude                                              0\n",
      "Org_longitude                                             0\n",
      "Des_latitude                                              0\n",
      "Des_longitude                                             0\n",
      "vehicleType_32_FT_Multi-Axle_14MT_-_HCV                   0\n",
      "vehicleType_32_FT_Single-Axle_7MT_-_HCV                   0\n",
      "vehicleType_40_FT_3XL_Trailer_35MT                        0\n",
      "vehicleType_40_FT_Flat_Bed_Multi-Axle_27MT_-_Trailer      0\n",
      "vehicleType_OTROS                                         0\n",
      "customerID_DMREXCHEUX                                     0\n",
      "customerID_FILEXCHE19                                     0\n",
      "customerID_LTLEXMUM40                                     0\n",
      "customerID_OTROS                                          0\n",
      "supplierID_999                                            0\n",
      "supplierID_55471                                          0\n",
      "supplierID_55556                                          0\n",
      "supplierID_OTROS                                          0\n",
      "Material_Shipped_AUTO_PARTS                               0\n",
      "Material_Shipped_OTROS                                    0\n",
      "dtype: int64\n"
     ]
    }
   ],
   "source": [
    "print(datosnuevo.shape[0])\n",
    "print(datosnuevo.shape[1])\n",
    "print(datosnuevo.isna().sum())"
   ]
  },
  {
   "cell_type": "code",
   "execution_count": 6,
   "metadata": {},
   "outputs": [
    {
     "name": "stdout",
     "output_type": "stream",
     "text": [
      "5758\n",
      "30\n",
      "BookingID_Date                                          0\n",
      "Data_Ping_time                                          0\n",
      "Planned_ETA                                             0\n",
      "actual_eta                                              0\n",
      "Curr_lat                                                0\n",
      "Curr_lon                                                0\n",
      "ontime                                                  0\n",
      "delay                                                   0\n",
      "trip_start_date                                         0\n",
      "trip_end_date                                           0\n",
      "TRANSPORTATION_DISTANCE_IN_KM                           0\n",
      "Org_latitude                                            0\n",
      "Org_longitude                                           0\n",
      "Des_latitude                                            0\n",
      "Des_longitude                                           0\n",
      "vehicleType_32_FT_Multi-Axle_14MT_-_HCV                 0\n",
      "vehicleType_32_FT_Single-Axle_7MT_-_HCV                 0\n",
      "vehicleType_40_FT_3XL_Trailer_35MT                      0\n",
      "vehicleType_40_FT_Flat_Bed_Multi-Axle_27MT_-_Trailer    0\n",
      "vehicleType_OTROS                                       0\n",
      "customerID_DMREXCHEUX                                   0\n",
      "customerID_FILEXCHE19                                   0\n",
      "customerID_LTLEXMUM40                                   0\n",
      "customerID_OTROS                                        0\n",
      "supplierID_999                                          0\n",
      "supplierID_55471                                        0\n",
      "supplierID_55556                                        0\n",
      "supplierID_OTROS                                        0\n",
      "Material_Shipped_AUTO_PARTS                             0\n",
      "Material_Shipped_OTROS                                  0\n",
      "dtype: int64\n"
     ]
    }
   ],
   "source": [
    "datosclas = datosnuevo.dropna()\n",
    "print(datosclas.shape[0])\n",
    "print(datosclas.shape[1])\n",
    "print(datosclas.isna().sum())"
   ]
  },
  {
   "cell_type": "code",
   "execution_count": 9,
   "metadata": {},
   "outputs": [
    {
     "name": "stdout",
     "output_type": "stream",
     "text": [
      "\n",
      "Top 10 características más importantes:\n",
      "1. Planned_ETA (0.15284039898928994)\n",
      "2. BookingID_Date (0.13445647820366088)\n",
      "3. trip_start_date (0.1229623695840051)\n",
      "4. actual_eta (0.10749811354529236)\n",
      "5. trip_end_date (0.0856398599779755)\n",
      "6. Data_Ping_time (0.08026446386794558)\n",
      "7. TRANSPORTATION_DISTANCE_IN_KM (0.07454523764284676)\n",
      "8. Des_latitude (0.041976393664023136)\n",
      "9. Curr_lat (0.04141884142986146)\n",
      "10. Curr_lon (0.032235752278944284)\n",
      "Fitting 5 folds for each of 162 candidates, totalling 810 fits\n",
      "['Planned_ETA', 'BookingID_Date', 'trip_start_date', 'actual_eta', 'trip_end_date', 'Data_Ping_time', 'TRANSPORTATION_DISTANCE_IN_KM', 'Des_latitude', 'Curr_lat', 'Curr_lon']\n",
      "Mejores hiperparámetros: {'bootstrap': True, 'max_depth': None, 'min_samples_leaf': 1, 'min_samples_split': 5, 'n_estimators': 300}\n",
      "Precisión: 0.9320594479830149\n",
      "              precision    recall  f1-score   support\n",
      "\n",
      "           0       0.93      0.94      0.93       491\n",
      "           1       0.93      0.93      0.93       451\n",
      "\n",
      "    accuracy                           0.93       942\n",
      "   macro avg       0.93      0.93      0.93       942\n",
      "weighted avg       0.93      0.93      0.93       942\n",
      "\n"
     ]
    },
    {
     "data": {
      "image/png": "[encoded data removed]",
      "text/plain": [
       "<Figure size 576x432 with 2 Axes>"
      ]
     },
     "metadata": {
      "needs_background": "light"
     },
     "output_type": "display_data"
    }
   ],
   "source": [
    "from imblearn.under_sampling import RandomUnderSampler\n",
    "\n",
    "\n",
    "columnasfuera = ['ontime', 'customerID_DMREXCHEUX', 'customerID_FILEXCHE19', \n",
    "                 'customerID_LTLEXMUM40', 'customerID_OTROS']\n",
    "\n",
    "datosclas = datosclas.drop(columns=[col for col in columnasfuera if col in datosclas.columns])\n",
    "\n",
    "\n",
    "delay_col = 'delay'\n",
    "datosclas[delay_col] = datosclas[delay_col].astype(int)\n",
    "\n",
    "X = datosclas.drop(columns=[delay_col])\n",
    "y = datosclas[delay_col]\n",
    "\n",
    "#undersampling\n",
    "undersampler = RandomUnderSampler(random_state=2803)\n",
    "X_resampled, y_resampled = undersampler.fit_resample(X, y)\n",
    "\n",
    "\n",
    "X_train, X_test, y_train, y_test = train_test_split(X_resampled, y_resampled, test_size=0.3, random_state=2803)\n",
    "\n",
    "\n",
    "model_rf_initial = RandomForestClassifier(n_estimators=100, random_state=2803)\n",
    "model_rf_initial.fit(X_train, y_train)\n",
    "\n",
    "# importancia de características\n",
    "importancias = model_rf_initial.feature_importances_\n",
    "indexs_clas = np.argsort(importancias)[::-1]\n",
    "\n",
    "print(\"\\nTop 10 características más importantes:\")\n",
    "for i in range(10):\n",
    "    print(f\"{i + 1}. {X_train.columns[indexs_clas[i]]} ({importancias[indexs_clas[i]]})\")\n",
    "\n",
    "# las 10 más importantes\n",
    "num_caracteristicas_seleccionadas = 10\n",
    "caracteristicas_seleccionadas = [X_train.columns[indexs_clas[i]] for i in range(num_caracteristicas_seleccionadas)]\n",
    "\n",
    "X_train_seleccionadas = X_train[caracteristicas_seleccionadas]\n",
    "X_test_seleccionadas = X_test[caracteristicas_seleccionadas]\n",
    "\n",
    "# Búsqueda de hiperparámetros\n",
    "parametros_grid = {\n",
    "    'n_estimators': [100, 200, 300],\n",
    "    'max_depth': [10, 20, None],\n",
    "    'min_samples_split': [2, 5, 10],\n",
    "    'min_samples_leaf': [1, 2, 4],\n",
    "    'bootstrap': [True, False]\n",
    "}\n",
    "\n",
    "model_rf_clas = RandomForestClassifier(random_state=2803)\n",
    "\n",
    "grid_clas = GridSearchCV(estimator=model_rf_clas, param_grid=parametros_grid,\n",
    "                         cv=5, n_jobs=-1, verbose=2, scoring='accuracy')\n",
    "\n",
    "grid_clas.fit(X_train_seleccionadas, y_train)\n",
    "\n",
    "# Mejor modelo con hiperparámetros optimizados\n",
    "mejor_modelo_rf = grid_clas.best_estimator_\n",
    "\n",
    "# Predicciones\n",
    "y_pred_clas = mejor_modelo_rf.predict(X_test_seleccionadas)\n",
    "\n",
    "# Evaluación\n",
    "precision_clas = accuracy_score(y_test, y_pred_clas)\n",
    "print(caracteristicas_seleccionadas)\n",
    "print(\"Mejores hiperparámetros:\", grid_clas.best_params_)\n",
    "print(\"Precisión:\", precision_clas)\n",
    "print(classification_report(y_test, y_pred_clas))\n",
    "\n",
    "# Matriz de confusión\n",
    "plt.figure(figsize=(8, 6))\n",
    "sns.heatmap(confusion_matrix(y_test, y_pred_clas), annot=True, fmt=\"d\", cmap=\"Reds\")\n",
    "plt.xlabel('Predicción')\n",
    "plt.ylabel('Real')\n",
    "plt.title('Matriz de Confusión')\n",
    "plt.show()"
   ]
  }
 ],
 "metadata": {
  "kernelspec": {
   "display_name": "Python 3",
   "language": "python",
   "name": "python3"
  },
  "language_info": {
   "codemirror_mode": {
    "name": "ipython",
    "version": 3
   },
   "file_extension": ".py",
   "mimetype": "text/x-python",
   "name": "python",
   "nbconvert_exporter": "python",
   "pygments_lexer": "ipython3",
   "version": "3.8.5"
  }
 },
 "nbformat": 4,
 "nbformat_minor": 4
}
